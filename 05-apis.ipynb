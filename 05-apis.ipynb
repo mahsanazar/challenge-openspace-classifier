{
 "cells": [
  {
   "cell_type": "markdown",
   "metadata": {},
   "source": [
    "### API (Application Programming Interface)"
   ]
  },
  {
   "cell_type": "markdown",
   "metadata": {},
   "source": [
    "An Application Programming Interface (API) is a set of tools and methods that allow different applications to interact with each other. While a **user interface** connects a person to a computer or a software, an **API** connects computers or software to each other.\n",
    "\n",
    "In the following example, the user interacts with Uber through an application (graphical user interface) while the Uber application interacts with other applications (Google maps, Banks) through APIs.\n",
    "\n",
    "<img src=\"./assets/api.png\">\n",
    "\n",
    "A lot of companies and organizations provide APIs which allow your Python code to communicate with them (for example by retrieving data dynamically from their server). Those services can be free or paid and often require you to be authenticated before using it.\n",
    "\n",
    "### How to call an API\n",
    "\n",
    "Each API has its own specifications. Basically what we need to know is:\n",
    "\n",
    "- The **root URL**, defining the address of the API\n",
    "- A **method** (the most common are `GET` and `POST` but you can find much more [here](https://restfulapi.net/http-methods/))\n",
    "- An **endpoint**, whose role is comparable to a function in python\n",
    "- **Parameters**, that you can compare to the parameters of a function in python\n",
    "\n",
    "In practice, you can test an API in the browser directly (at least for `GET` methods). A useful tool for testing more complex API calls is [Postman](https://www.postman.com/).\n",
    "\n",
    "In our case, we will of course use Python and our famous `requests` library.\n"
   ]
  },
  {
   "cell_type": "markdown",
   "metadata": {},
   "source": [
    "### Let's practice\n",
    "\n",
    "We will use [newsapi](https://newsapi.org/) for getting the latest articles from the French newspaper [L'Equipe](https://www.lequipe.fr/).\n",
    "\n",
    "In our case the specifications are :\n",
    "- Root url: `https://newsapi.org/v2`\n",
    "- Method: `GET`\n",
    "- Endpoint: `top-headlines`\n",
    "- Parameters (key: value):\n",
    "    - `apiKey`: `73bbb95f8ecb49b499113a46481b4af1` (this credential key has been created for you)\n",
    "    - `sources`: `lequipe`\n",
    "\n",
    "\n",
    "In the browser we translate it like this : `{ROOT_URL}/{ENDPOINT}?{key}={value1}&{key2}={value2}`\n",
    "\n",
    "Can you create this URL in your browser and check what happens ?"
   ]
  },
  {
   "cell_type": "markdown",
   "metadata": {},
   "source": [
    "### And in Python?\n",
    "\n",
    "Let's build our call to the API by using `requests`"
   ]
  },
  {
   "cell_type": "code",
   "execution_count": 6,
   "metadata": {},
   "outputs": [
    {
     "name": "stdout",
     "output_type": "stream",
     "text": [
      "['Marseille dans un nouveau monde après avoir intégré la Ligue Magnus', 'Manchester City au complet pour la finale de la Ligue des champions', 'Jonas Vingegaard remporte en solitaire la cinquième étape du Dauphiné et enfile le maillot jaune', 'Jacobus Van Tonder (Clermont) signe à Perpignan', \"L'UEFA a donné des consignes de sécurité aux supporters de Manchester City avant la finale de la Ligue des ...\", 'Transferts\\xa0: Crystal Palace recrute Jefferson Lerma', \"Salis Abdul Samed prolonge à Lens jusqu'en 2028\", 'Clémentine Geoffray championne du monde de trail court', 'Vingt-trois arrestations en marge de la finale de la Ligue Europa Conférence', \"Fabio Quartararo avant le GP d'Italie\\xa0: «\\xa0Il n'y aura pas de nouveautés\\xa0»\"]\n"
     ]
    }
   ],
   "source": [
    "import requests\n",
    "\n",
    "root_url = \"https://newsapi.org/v2\"\n",
    "endpoint = \"top-headlines\" \n",
    "params = {\n",
    "    \"apiKey\": \"73bbb95f8ecb49b499113a46481b4af1\",\n",
    "    \"sources\": \"lequipe\"\n",
    "}\n",
    "# Let's call the get method of requests on our specifications\n",
    "response = requests.get(f\"{root_url}/{endpoint}\", params=params)\n",
    "\n",
    "\n",
    "data = response.json()\n",
    "articles = data.get(\"articles\", [])\n",
    "titles = [article[\"title\"] for article in articles]\n",
    "print(titles)\n"
   ]
  },
  {
   "cell_type": "markdown",
   "metadata": {},
   "source": [
    "parse the json output to get only the titles of the articles in a list ?The results is a bit hard to read, isn't ? Why not to "
   ]
  },
  {
   "cell_type": "code",
   "execution_count": null,
   "metadata": {},
   "outputs": [],
   "source": []
  },
  {
   "cell_type": "markdown",
   "metadata": {},
   "source": [
    "### Exercise\n",
    "\n",
    "1. Choose any existing free API (look on Internet)\n",
    "2. Try to make some calls with `requests` by looking to the specifications\n",
    "3. Display the results"
   ]
  },
  {
   "cell_type": "markdown",
   "metadata": {},
   "source": []
  },
  {
   "cell_type": "code",
   "execution_count": 9,
   "metadata": {},
   "outputs": [
    {
     "name": "stdout",
     "output_type": "stream",
     "text": [
      "[]\n"
     ]
    },
    {
     "data": {
      "text/plain": [
       "{'error': False,\n",
       " 'category': 'Programming',\n",
       " 'type': 'single',\n",
       " 'joke': 'If Bill Gates had a dime for every time Windows crashed ... Oh wait, he does.',\n",
       " 'flags': {'nsfw': False,\n",
       "  'religious': False,\n",
       "  'political': False,\n",
       "  'racist': False,\n",
       "  'sexist': False,\n",
       "  'explicit': False},\n",
       " 'id': 22,\n",
       " 'safe': True,\n",
       " 'lang': 'en'}"
      ]
     },
     "execution_count": 9,
     "metadata": {},
     "output_type": "execute_result"
    }
   ],
   "source": [
    "import requests\n",
    "\n",
    "root_url = \"https://v2.jokeapi.dev\"\n",
    "endpoint = \"/joke/Programming\" \n",
    "params = {\n",
    "    \n",
    "    \"sources\": \"Programming\"\n",
    "}\n",
    "# Let's call the get method of requests on our specifications\n",
    "response = requests.get(f\"{root_url}/{endpoint}\", params=params)\n",
    "\n",
    "\n",
    "response.json()\n"
   ]
  }
 ],
 "metadata": {
  "kernelspec": {
   "display_name": "Python 3.10.5 ('infosessionvenv')",
   "language": "python",
   "name": "python3"
  },
  "language_info": {
   "codemirror_mode": {
    "name": "ipython",
    "version": 3
   },
   "file_extension": ".py",
   "mimetype": "text/x-python",
   "name": "python",
   "nbconvert_exporter": "python",
   "pygments_lexer": "ipython3",
   "version": "3.12.1"
  },
  "vscode": {
   "interpreter": {
    "hash": "661c13da0699b4d3adfbe1192573631e3fbd9fa55405ad8c238e615a4e7e8a33"
   }
  }
 },
 "nbformat": 4,
 "nbformat_minor": 2
}
